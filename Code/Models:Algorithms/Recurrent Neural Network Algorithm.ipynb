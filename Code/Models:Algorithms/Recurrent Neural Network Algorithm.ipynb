{
 "cells": [
  {
   "cell_type": "code",
   "execution_count": 1,
   "metadata": {},
   "outputs": [
    {
     "name": "stdout",
     "output_type": "stream",
     "text": [
      "Collecting langdetect\n",
      "  Downloading langdetect-1.0.8.tar.gz (981 kB)\n",
      "\u001b[K     |████████████████████████████████| 981 kB 922 kB/s eta 0:00:01\n",
      "\u001b[?25hRequirement already satisfied: six in /opt/conda/lib/python3.7/site-packages (from langdetect) (1.14.0)\n",
      "Building wheels for collected packages: langdetect\n",
      "  Building wheel for langdetect (setup.py) ... \u001b[?25ldone\n",
      "\u001b[?25h  Created wheel for langdetect: filename=langdetect-1.0.8-py3-none-any.whl size=993191 sha256=ccabbdbfb4e2a40d8dde72ebbfbc7df4cb7a39055fd9ede4098bc1ed398f74d4\n",
      "  Stored in directory: /root/.cache/pip/wheels/59/f6/9d/85068904dba861c0b9af74e286265a08da438748ee5ae56067\n",
      "Successfully built langdetect\n",
      "Installing collected packages: langdetect\n",
      "Successfully installed langdetect-1.0.8\n",
      "\u001b[33mWARNING: You are using pip version 20.1.1; however, version 20.3.1 is available.\n",
      "You should consider upgrading via the '/opt/conda/bin/python3.7 -m pip install --upgrade pip' command.\u001b[0m\n"
     ]
    }
   ],
   "source": [
    "# Install langdetect\n",
    "!pip install langdetect"
   ]
  },
  {
   "cell_type": "markdown",
   "metadata": {},
   "source": [
    "### 1. Import Packages"
   ]
  },
  {
   "cell_type": "code",
   "execution_count": 2,
   "metadata": {
    "id": "CLSavsGIkq5Y",
    "outputId": "684dfc0a-11e9-49b5-da87-2a4d9c12578a"
   },
   "outputs": [
    {
     "name": "stdout",
     "output_type": "stream",
     "text": [
      "[nltk_data] Downloading package stopwords to /usr/share/nltk_data...\n",
      "[nltk_data]   Package stopwords is already up-to-date!\n",
      "[nltk_data] Downloading package wordnet to /usr/share/nltk_data...\n",
      "[nltk_data]   Package wordnet is already up-to-date!\n",
      "[nltk_data] Downloading package punkt to /usr/share/nltk_data...\n",
      "[nltk_data]   Package punkt is already up-to-date!\n"
     ]
    }
   ],
   "source": [
    "import numpy as np \n",
    "import pandas as pd \n",
    "import tensorflow as tf\n",
    "\n",
    "import re\n",
    "import nltk\n",
    "nltk.download('stopwords')\n",
    "nltk.download('wordnet')\n",
    "nltk.download('punkt')\n",
    "import pickle\n",
    "\n",
    "from nltk.corpus import stopwords\n",
    "from nltk.stem import WordNetLemmatizer\n",
    "from nltk.stem.porter import PorterStemmer\n",
    "\n",
    "from sklearn.preprocessing import MultiLabelBinarizer\n",
    "\n",
    "from sklearn.model_selection import train_test_split\n",
    "\n",
    "from tensorflow.keras.preprocessing.text import Tokenizer\n",
    "\n",
    "from tensorflow.keras.preprocessing.sequence import pad_sequences\n",
    "\n",
    "from sklearn.metrics import accuracy_score, precision_score,recall_score, precision_recall_fscore_support, cohen_kappa_score\n",
    "\n",
    "from sklearn.metrics import f1_score, roc_auc_score, confusion_matrix, plot_confusion_matrix\n",
    "\n",
    "from imblearn.over_sampling import SMOTE\n",
    "\n",
    "from langdetect import detect\n",
    "\n",
    "import matplotlib.pyplot as plt\n",
    "\n",
    "from tabulate import tabulate"
   ]
  },
  {
   "cell_type": "markdown",
   "metadata": {},
   "source": [
    "### 2. Data Selection"
   ]
  },
  {
   "cell_type": "code",
   "execution_count": 3,
   "metadata": {
    "id": "xwy8Fq5Bkq5Z",
    "outputId": "0d472f88-f189-4aff-e69b-8b10a29424f9"
   },
   "outputs": [
    {
     "name": "stdout",
     "output_type": "stream",
     "text": [
      "     courseid                                             review label\n",
      "0  2-speed-it                                             BOring     1\n",
      "1  2-speed-it                                            Bravo !     5\n",
      "2  2-speed-it                                           Very goo     5\n",
      "3      2d-cad                                         简单易懂，实用性很强     5\n",
      "4  2-speed-it  Great course - I recommend it for all, especia...     5\n"
     ]
    }
   ],
   "source": [
    "# Read the Input Data\n",
    "data = pd.read_csv('../input/coursera-customer-reviews/reviews_by_course.csv', names=[\"courseid\", \"review\", \"label\"], header=0, dtype={'label':'str'})\n",
    "\n",
    "print(data.head())"
   ]
  },
  {
   "cell_type": "markdown",
   "metadata": {},
   "source": [
    "### 3. Exploratory Data Analysis"
   ]
  },
  {
   "cell_type": "code",
   "execution_count": 4,
   "metadata": {},
   "outputs": [
    {
     "name": "stdout",
     "output_type": "stream",
     "text": [
      "\n",
      " Total number of data objects:              140320\n",
      "\n",
      " Total number of attributes:                     3\n",
      "\n",
      " Total number of values:                    420960\n",
      "\n",
      " Total number of duplicates data objects:     3016\n",
      "\n",
      " Total number of missing values:                 3\n"
     ]
    },
    {
     "data": {
      "text/html": [
       "<div>\n",
       "<style scoped>\n",
       "    .dataframe tbody tr th:only-of-type {\n",
       "        vertical-align: middle;\n",
       "    }\n",
       "\n",
       "    .dataframe tbody tr th {\n",
       "        vertical-align: top;\n",
       "    }\n",
       "\n",
       "    .dataframe thead th {\n",
       "        text-align: right;\n",
       "    }\n",
       "</style>\n",
       "<table border=\"1\" class=\"dataframe\">\n",
       "  <thead>\n",
       "    <tr style=\"text-align: right;\">\n",
       "      <th></th>\n",
       "      <th>courseid</th>\n",
       "      <th>review</th>\n",
       "      <th>label</th>\n",
       "    </tr>\n",
       "  </thead>\n",
       "  <tbody>\n",
       "    <tr>\n",
       "      <th>count</th>\n",
       "      <td>140320</td>\n",
       "      <td>140317</td>\n",
       "      <td>140320</td>\n",
       "    </tr>\n",
       "    <tr>\n",
       "      <th>unique</th>\n",
       "      <td>1835</td>\n",
       "      <td>123239</td>\n",
       "      <td>5</td>\n",
       "    </tr>\n",
       "    <tr>\n",
       "      <th>top</th>\n",
       "      <td>machine-learning</td>\n",
       "      <td>Great course!</td>\n",
       "      <td>5</td>\n",
       "    </tr>\n",
       "    <tr>\n",
       "      <th>freq</th>\n",
       "      <td>8570</td>\n",
       "      <td>509</td>\n",
       "      <td>106516</td>\n",
       "    </tr>\n",
       "  </tbody>\n",
       "</table>\n",
       "</div>"
      ],
      "text/plain": [
       "                courseid         review   label\n",
       "count             140320         140317  140320\n",
       "unique              1835         123239       5\n",
       "top     machine-learning  Great course!       5\n",
       "freq                8570            509  106516"
      ]
     },
     "execution_count": 4,
     "metadata": {},
     "output_type": "execute_result"
    }
   ],
   "source": [
    "# Describe the data   \n",
    "print('\\n Total number of data objects:             ', len(data))\n",
    "print('\\n Total number of attributes:                    ', len(data.columns))\n",
    "print('\\n Total number of values:                   ', len(data)*len(data.columns))\n",
    "print('\\n Total number of duplicates data objects:    ', len(data)-len(data.drop_duplicates()))\n",
    "print('\\n Total number of missing values:                ', data.isnull().sum().sum())\n",
    "data.describe()"
   ]
  },
  {
   "cell_type": "markdown",
   "metadata": {},
   "source": [
    "### 4. Data Cleaning"
   ]
  },
  {
   "cell_type": "code",
   "execution_count": 5,
   "metadata": {},
   "outputs": [],
   "source": [
    "#Remove Duplicate Records\n",
    "data.drop_duplicates(inplace=True)\n",
    "\n",
    "# Remove records with missing values\n",
    "data = data.dropna()\n",
    "\n",
    "# Remove records with numeric values\n",
    "data = data.drop(data[data['review'].str.isnumeric()].index) \n",
    "\n",
    "# Resets the index in the dataframe\n",
    "data = data.reset_index(drop=True)"
   ]
  },
  {
   "cell_type": "markdown",
   "metadata": {},
   "source": [
    "### 5. Data Preprocessing"
   ]
  },
  {
   "cell_type": "code",
   "execution_count": 6,
   "metadata": {
    "id": "YsPt2fHRkq5Z"
   },
   "outputs": [],
   "source": [
    "def preprocess_data(review_data):\n",
    "    ps = PorterStemmer()\n",
    "    \n",
    "    preprocessed_review = []\n",
    "    preprocessed_label  = []\n",
    "    \n",
    "    for i in range(1, len(review_data)):\n",
    "        # Remove Noisy Data\n",
    "        review = re.sub('[^a-zA-Z\\\\s]', '', review_data[i]).strip()\n",
    "        \n",
    "        # Remove Non-english Reviews\n",
    "        if(len(review) == 0 or len(review) == 1 or detect(review) == \"vi\" or  detect(review) == \"ko\" or detect(review) == \"ru\" or detect(review) == \"zh-cn\"):\n",
    "          continue\n",
    "        \n",
    "        # Lower all the characters\n",
    "        review = review.lower()\n",
    "        \n",
    "        # Tokenization\n",
    "        words= nltk.word_tokenize(review)\n",
    "        \n",
    "        # Non-stopwords are stemmed\n",
    "        words = [ps.stem(word) for word in words if word not in set(stopwords.words('english'))]\n",
    "        \n",
    "        # Join the stemmed words of a review\n",
    "        review_data[i] = ' '.join(words)\n",
    "        \n",
    "        # Eliminate if the reviews are blank after preprocessing\n",
    "        if(review_data[i] !=\"\"):\n",
    "            preprocessed_review.append(review_data[i]);\n",
    "            preprocessed_label.append(data['label'][i]);\n",
    "        \n",
    "    return preprocessed_review, preprocessed_label"
   ]
  },
  {
   "cell_type": "code",
   "execution_count": 7,
   "metadata": {
    "id": "K7CfL9UQkq5Z",
    "outputId": "7904d222-2bb0-4d86-b368-406a26906183"
   },
   "outputs": [],
   "source": [
    "X_transformed, y = preprocess_data(data['review'].values)"
   ]
  },
  {
   "cell_type": "markdown",
   "metadata": {},
   "source": [
    "### 6. Data Splitting"
   ]
  },
  {
   "cell_type": "code",
   "execution_count": 8,
   "metadata": {
    "id": "SLd_-RU5kq5Z",
    "outputId": "95eaae8d-72f5-4272-b167-ea32c1e7caf9"
   },
   "outputs": [],
   "source": [
    "# The entire dataset is split into training and test datasets with 80% of training dataset and 20% of test dataset\n",
    "X_train_neuralnetwork, X_test_neuralnetwork, y_train_label, y_test_label = train_test_split(X_transformed, y, test_size = 0.20, random_state = 10)"
   ]
  },
  {
   "cell_type": "markdown",
   "metadata": {},
   "source": [
    "### 7. Data Transformation"
   ]
  },
  {
   "cell_type": "markdown",
   "metadata": {},
   "source": [
    "#### 7.1. Converting the text to sequence vectors"
   ]
  },
  {
   "cell_type": "code",
   "execution_count": 9,
   "metadata": {
    "id": "ca26eauikq5Z"
   },
   "outputs": [],
   "source": [
    "# Tokenizer is used to vectorize the reviews where the reviews are converted to sequence of integers\n",
    "tokenizer = Tokenizer(num_words=5000)\n",
    "total_reviews = X_train_neuralnetwork + X_test_neuralnetwork\n",
    "\n",
    "# Updates internal vocabulary based on a list of reviews.\n",
    "tokenizer.fit_on_texts(total_reviews) \n",
    "\n",
    "# Converts the reviews to sequence vectors\n",
    "X_train_tokens =  tokenizer.texts_to_sequences(X_train_neuralnetwork)\n",
    "X_test_tokens = tokenizer.texts_to_sequences(X_test_neuralnetwork)\n",
    "\n",
    "# Pads the sequence vectors to maxlen\n",
    "X_train_pad = pad_sequences(X_train_tokens, maxlen=500)\n",
    "X_test_pad = pad_sequences(X_test_tokens, maxlen=500)"
   ]
  },
  {
   "cell_type": "markdown",
   "metadata": {},
   "source": [
    "#### 7.2. Over sampling the data using SMOTE"
   ]
  },
  {
   "cell_type": "code",
   "execution_count": 10,
   "metadata": {
    "id": "ODSAs_Xxkq5Z",
    "outputId": "6c21a24c-11a9-4041-9ae7-de934bcb61d4"
   },
   "outputs": [],
   "source": [
    "# Ovesamples the training data using SMOTE function\n",
    "oversample = SMOTE()\n",
    "X_sm, y_sm = oversample.fit_resample(X_train_pad, y_train_label)"
   ]
  },
  {
   "cell_type": "code",
   "execution_count": 11,
   "metadata": {},
   "outputs": [],
   "source": [
    "# MultiLabelBinarizer to transform the labels to multilabel format (one-hot encoding)\n",
    "mlb = MultiLabelBinarizer()\n",
    "y_train_neuralnetwork = mlb.fit_transform(y_sm)\n",
    "y_test_neuralnetwork = mlb.fit_transform(y_test_label)"
   ]
  },
  {
   "cell_type": "markdown",
   "metadata": {},
   "source": [
    "### 8. Model Training"
   ]
  },
  {
   "cell_type": "code",
   "execution_count": 12,
   "metadata": {
    "id": "NN1TO-Wxkq5Z",
    "outputId": "a5d13368-8c0e-4cb1-9343-5a16c1c56b1e"
   },
   "outputs": [
    {
     "name": "stdout",
     "output_type": "stream",
     "text": [
      "Summary of the built model...\n",
      "Model: \"sequential\"\n",
      "_________________________________________________________________\n",
      "Layer (type)                 Output Shape              Param #   \n",
      "=================================================================\n",
      "embedding (Embedding)        (None, 500, 32)           160000    \n",
      "_________________________________________________________________\n",
      "gru (GRU)                    (None, 32)                6336      \n",
      "_________________________________________________________________\n",
      "dense (Dense)                (None, 5)                 165       \n",
      "=================================================================\n",
      "Total params: 166,501\n",
      "Trainable params: 166,501\n",
      "Non-trainable params: 0\n",
      "_________________________________________________________________\n",
      "None\n"
     ]
    }
   ],
   "source": [
    "# Recurrent Neural Network Model\n",
    "model = tf.keras.models.Sequential()\n",
    "model.add(tf.keras.layers.Embedding(5000, 32, input_length=500))\n",
    "model.add(tf.keras.layers.GRU(units=32,  dropout=0.27, recurrent_dropout=0.2))\n",
    "model.add(tf.keras.layers.Dense(5, activation='softmax'))\n",
    "\n",
    "model.compile(loss='categorical_crossentropy', optimizer='adam', metrics=['accuracy'])\n",
    "\n",
    "print('Summary of the built model...')\n",
    "print(model.summary())"
   ]
  },
  {
   "cell_type": "code",
   "execution_count": 13,
   "metadata": {
    "id": "IxAVrCUnkq5Z",
    "outputId": "5242b046-7336-40b6-c27b-6f43feded185"
   },
   "outputs": [
    {
     "name": "stdout",
     "output_type": "stream",
     "text": [
      "Epoch 1/12\n",
      "3985/3985 - 1839s - loss: 1.3753 - accuracy: 0.3753 - val_loss: 0.8366 - val_accuracy: 0.6962\n",
      "Epoch 2/12\n",
      "3985/3985 - 1856s - loss: 1.2254 - accuracy: 0.4382 - val_loss: 0.7712 - val_accuracy: 0.7168\n",
      "Epoch 3/12\n",
      "3985/3985 - 1837s - loss: 1.1926 - accuracy: 0.4529 - val_loss: 0.7349 - val_accuracy: 0.7258\n",
      "Epoch 4/12\n",
      "3985/3985 - 1822s - loss: 1.1781 - accuracy: 0.4611 - val_loss: 0.7348 - val_accuracy: 0.7265\n",
      "Epoch 5/12\n",
      "3985/3985 - 1818s - loss: 1.1665 - accuracy: 0.4667 - val_loss: 0.7362 - val_accuracy: 0.7269\n",
      "Epoch 6/12\n",
      "3985/3985 - 1816s - loss: 1.1590 - accuracy: 0.4705 - val_loss: 0.7253 - val_accuracy: 0.7250\n",
      "Epoch 7/12\n",
      "3985/3985 - 1819s - loss: 1.1519 - accuracy: 0.4756 - val_loss: 0.7442 - val_accuracy: 0.7179\n",
      "Epoch 8/12\n",
      "3985/3985 - 1815s - loss: 1.1468 - accuracy: 0.4780 - val_loss: 0.7155 - val_accuracy: 0.7339\n",
      "Epoch 9/12\n",
      "3985/3985 - 1819s - loss: 1.1420 - accuracy: 0.4813 - val_loss: 0.7527 - val_accuracy: 0.7139\n",
      "Epoch 10/12\n",
      "3985/3985 - 1833s - loss: 1.1371 - accuracy: 0.4842 - val_loss: 0.7389 - val_accuracy: 0.7181\n",
      "Epoch 11/12\n",
      "3985/3985 - 1846s - loss: 1.1347 - accuracy: 0.4855 - val_loss: 0.7586 - val_accuracy: 0.7148\n",
      "Epoch 12/12\n",
      "3985/3985 - 1844s - loss: 1.1300 - accuracy: 0.4877 - val_loss: 0.7450 - val_accuracy: 0.7242\n"
     ]
    }
   ],
   "source": [
    "# Trains the Recurrent Neural Network Model\n",
    "model_1 = model.fit(X_sm, y_train_neuralnetwork, batch_size=100, epochs=12, validation_data=(X_test_pad, y_test_neuralnetwork), verbose=2)\n",
    "\n",
    "# Save the model and the tokenizer into the files (Will be used in web application)\n",
    "pickle.dump([tokenizer], open('tokenizer.pickle', 'wb'))\n",
    "model.save(\"model.h5\")"
   ]
  },
  {
   "cell_type": "markdown",
   "metadata": {},
   "source": [
    "### 9. Model Evaluation"
   ]
  },
  {
   "cell_type": "code",
   "execution_count": 14,
   "metadata": {},
   "outputs": [
    {
     "name": "stdout",
     "output_type": "stream",
     "text": [
      "828/828 [==============================] - 55s 67ms/step - loss: 0.7450 - accuracy: 0.7242\n",
      "Test Loss: 0.7450286149978638\n",
      "Test Accuracy: 0.7241718173027039\n"
     ]
    }
   ],
   "source": [
    "# Model evaluation on the test data\n",
    "test_loss, test_acc = model.evaluate(X_test_pad, y_test_neuralnetwork)\n",
    "\n",
    "print('Test Loss: {}'.format(test_loss))\n",
    "print('Test Accuracy: {}'.format(test_acc))\n"
   ]
  },
  {
   "cell_type": "code",
   "execution_count": 15,
   "metadata": {},
   "outputs": [
    {
     "name": "stdout",
     "output_type": "stream",
     "text": [
      "Performance Metrics      Values\n",
      "---------------------  --------\n",
      "Accuracy               0.724172\n",
      "Precision              0.712099\n",
      "Recall                 0.724172\n",
      "F1score                0.716815\n",
      "Recurrent Neural Network Normalized Confusion Matrix\n",
      "[[0.24952741 0.14071856 0.08980583 0.03033473 0.00332795]\n",
      " [0.09546314 0.13173653 0.13834951 0.04864017 0.00401312]\n",
      " [0.11720227 0.17664671 0.19296117 0.14356695 0.01404591]\n",
      " [0.1436673  0.17365269 0.21966019 0.34205021 0.12724514]\n",
      " [0.39413989 0.37724551 0.3592233  0.43540795 0.85136789]]\n"
     ]
    }
   ],
   "source": [
    "# predict crisp classes for test set\n",
    "y_pred_classes = model.predict_classes(X_test_pad, verbose=0) + 1\n",
    "rounded_labels = np.argmax(y_test_neuralnetwork, axis=1) + 1\n",
    "\n",
    "# Calculate Accuracy\n",
    "accuracy = accuracy_score(rounded_labels, y_pred_classes)\n",
    "\n",
    "# Calculate Precision, Recall, F1\n",
    "precision, recall, f1, support = precision_recall_fscore_support(rounded_labels, y_pred_classes, average='weighted')\n",
    "\n",
    "header=['Precision', 'Recall','F1Score']\n",
    "print(tabulate([['Accuracy', accuracy], ['Precision', precision], ['Recall', recall], ['F1score', f1]], headers=['Performance Metrics', 'Values']))\n",
    "\n",
    "# Confusion Matrix\n",
    "print('Recurrent Neural Network Normalized Confusion Matrix')\n",
    "print(confusion_matrix(rounded_labels, y_pred_classes,normalize='pred'))"
   ]
  },
  {
   "cell_type": "code",
   "execution_count": 16,
   "metadata": {},
   "outputs": [],
   "source": [
    "# Function to plot the Graph\n",
    "def plot_graph(model, metric):\n",
    "  plt.plot(model.history[metric])\n",
    "  plt.plot(model.history['val_'+metric], '')\n",
    "  plt.xlabel(\"Epochs\")\n",
    "  plt.ylabel(metric)\n",
    "  plt.legend([metric, 'val_'+metric])"
   ]
  },
  {
   "cell_type": "code",
   "execution_count": 17,
   "metadata": {},
   "outputs": [
    {
     "data": {
      "image/png": "[encoded data removed]",
      "text/plain": [
       "<Figure size 720x360 with 2 Axes>"
      ]
     },
     "metadata": {
      "needs_background": "light"
     },
     "output_type": "display_data"
    }
   ],
   "source": [
    "# Plots the Epochs va Accuracy Graph\n",
    "plt.figure(figsize=(10,5))\n",
    "plt.subplot(1,2,1)\n",
    "plot_graph(model_1, 'accuracy')\n",
    "plt.yticks(np.arange(0, 1, step=0.25))\n",
    "\n",
    "# Plots the Epochs va Accuracy Graph\n",
    "plt.subplot(1,2,2)\n",
    "plot_graph(model_1, 'loss')\n",
    "plt.yticks(np.arange(1, 2, step=0.25))\n",
    "plt.show()"
   ]
  }
 ],
 "metadata": {
  "kernelspec": {
   "display_name": "Python 3",
   "language": "python",
   "name": "python3"
  },
  "language_info": {
   "codemirror_mode": {
    "name": "ipython",
    "version": 3
   },
   "file_extension": ".py",
   "mimetype": "text/x-python",
   "name": "python",
   "nbconvert_exporter": "python",
   "pygments_lexer": "ipython3",
   "version": "3.7.4"
  }
 },
 "nbformat": 4,
 "nbformat_minor": 4
}
