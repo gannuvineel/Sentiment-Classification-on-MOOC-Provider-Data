{
 "cells": [
  {
   "cell_type": "markdown",
   "metadata": {
    "id": "-npcfNOxmLsP"
   },
   "source": [
    "1. Import Packages"
   ]
  },
  {
   "cell_type": "code",
   "execution_count": 1,
   "metadata": {
    "_cell_guid": "b1076dfc-b9ad-4769-8c92-a6c4dae69d19",
    "_uuid": "8f2839f25d086af736a60e9eeb907d3b93b6e0e5",
    "colab": {
     "base_uri": "https://localhost:8080/"
    },
    "id": "rXBQ6G8uWhmo",
    "outputId": "e9c02f0c-caf7-49d5-b4b3-2d33a1a69ef4"
   },
   "outputs": [
    {
     "name": "stderr",
     "output_type": "stream",
     "text": [
      "[nltk_data] Downloading package stopwords to\n",
      "[nltk_data]     /Users/vineelgannu/nltk_data...\n",
      "[nltk_data]   Package stopwords is already up-to-date!\n",
      "[nltk_data] Downloading package wordnet to\n",
      "[nltk_data]     /Users/vineelgannu/nltk_data...\n",
      "[nltk_data]   Package wordnet is already up-to-date!\n",
      "[nltk_data] Downloading package punkt to\n",
      "[nltk_data]     /Users/vineelgannu/nltk_data...\n",
      "[nltk_data]   Package punkt is already up-to-date!\n"
     ]
    }
   ],
   "source": [
    "import numpy as np \n",
    "import pandas as pd \n",
    "import tensorflow as tf\n",
    "\n",
    "import re\n",
    "import nltk\n",
    "nltk.download('stopwords')\n",
    "nltk.download('wordnet')\n",
    "nltk.download('punkt')\n",
    "\n",
    "from nltk.corpus import stopwords\n",
    "from nltk.stem.porter import PorterStemmer\n",
    "\n",
    "from sklearn.model_selection import train_test_split\n",
    "\n",
    "from sklearn.metrics import confusion_matrix, precision_recall_fscore_support, accuracy_score, classification_report, plot_confusion_matrix\n",
    "\n",
    "from tensorflow.keras.preprocessing.text import Tokenizer\n",
    "\n",
    "from sklearn.naive_bayes import MultinomialNB\n",
    "\n",
    "import matplotlib.pyplot as plt\n",
    "\n",
    "from tabulate import tabulate\n",
    "\n",
    "from langdetect import detect"
   ]
  },
  {
   "cell_type": "markdown",
   "metadata": {
    "id": "sejuwcLur5bW"
   },
   "source": [
    "2. Data Selection"
   ]
  },
  {
   "cell_type": "code",
   "execution_count": 2,
   "metadata": {
    "_cell_guid": "79c7e3d0-c299-4dcb-8224-4455121ee9b0",
    "_uuid": "d629ff2d2480ee46fbb7e2d37f6b5fab8052498a",
    "colab": {
     "base_uri": "https://localhost:8080/"
    },
    "id": "khMz0IV6Whmu",
    "outputId": "a3b1a00a-21f4-40c2-ef92-106913a8f48e"
   },
   "outputs": [
    {
     "name": "stdout",
     "output_type": "stream",
     "text": [
      "     courseid                                             review label\n",
      "0  2-speed-it                                             BOring     1\n",
      "1  2-speed-it                                             Bravo!     5\n",
      "2  2-speed-it                                          Very good     5\n",
      "3  2-speed-it  Great course - I recommend it for all, especia...     5\n",
      "4  2-speed-it    One of the most useful course on IT Management!     5\n"
     ]
    }
   ],
   "source": [
    "# Data\n",
    "data = pd.read_csv('reviews_by_course.csv', names=[\"courseid\", \"review\", \"label\"], header=0, dtype={'label':'str'})\n",
    "\n",
    "print(data.head())"
   ]
  },
  {
   "cell_type": "markdown",
   "metadata": {
    "id": "kuI5hXfKnmF9"
   },
   "source": [
    "3. Exploratory Data Analysis"
   ]
  },
  {
   "cell_type": "code",
   "execution_count": 3,
   "metadata": {
    "colab": {
     "base_uri": "https://localhost:8080/",
     "height": 275
    },
    "id": "OopkSF-Uno8m",
    "outputId": "a4110a43-5cba-44d7-daa0-6195c68b5bed"
   },
   "outputs": [
    {
     "name": "stdout",
     "output_type": "stream",
     "text": [
      "\n",
      " Total number of data objects:              140320\n",
      "\n",
      " Total number of attributes:                     3\n",
      "\n",
      " Total number of values:                    420960\n",
      "\n",
      " Total number of duplicates data objects:     3016\n",
      "\n",
      " Total number of missing values:                 3\n"
     ]
    },
    {
     "data": {
      "text/html": [
       "<div>\n",
       "<style scoped>\n",
       "    .dataframe tbody tr th:only-of-type {\n",
       "        vertical-align: middle;\n",
       "    }\n",
       "\n",
       "    .dataframe tbody tr th {\n",
       "        vertical-align: top;\n",
       "    }\n",
       "\n",
       "    .dataframe thead th {\n",
       "        text-align: right;\n",
       "    }\n",
       "</style>\n",
       "<table border=\"1\" class=\"dataframe\">\n",
       "  <thead>\n",
       "    <tr style=\"text-align: right;\">\n",
       "      <th></th>\n",
       "      <th>courseid</th>\n",
       "      <th>review</th>\n",
       "      <th>label</th>\n",
       "    </tr>\n",
       "  </thead>\n",
       "  <tbody>\n",
       "    <tr>\n",
       "      <th>count</th>\n",
       "      <td>140320</td>\n",
       "      <td>140317</td>\n",
       "      <td>140320</td>\n",
       "    </tr>\n",
       "    <tr>\n",
       "      <th>unique</th>\n",
       "      <td>1835</td>\n",
       "      <td>123233</td>\n",
       "      <td>5</td>\n",
       "    </tr>\n",
       "    <tr>\n",
       "      <th>top</th>\n",
       "      <td>machine-learning</td>\n",
       "      <td>Great course!</td>\n",
       "      <td>5</td>\n",
       "    </tr>\n",
       "    <tr>\n",
       "      <th>freq</th>\n",
       "      <td>8570</td>\n",
       "      <td>509</td>\n",
       "      <td>106516</td>\n",
       "    </tr>\n",
       "  </tbody>\n",
       "</table>\n",
       "</div>"
      ],
      "text/plain": [
       "                courseid         review   label\n",
       "count             140320         140317  140320\n",
       "unique              1835         123233       5\n",
       "top     machine-learning  Great course!       5\n",
       "freq                8570            509  106516"
      ]
     },
     "execution_count": 3,
     "metadata": {},
     "output_type": "execute_result"
    }
   ],
   "source": [
    "# Describe the data   \n",
    "print('\\n Total number of data objects:             ', len(data))\n",
    "print('\\n Total number of attributes:                    ', len(data.columns))\n",
    "print('\\n Total number of values:                   ', len(data)*len(data.columns))\n",
    "print('\\n Total number of duplicates data objects:    ', len(data)-len(data.drop_duplicates()))\n",
    "print('\\n Total number of missing values:                ', data.isnull().sum().sum())\n",
    "data.describe()"
   ]
  },
  {
   "cell_type": "markdown",
   "metadata": {
    "id": "2hK7DEmewlB2"
   },
   "source": [
    "4. Data Cleaning"
   ]
  },
  {
   "cell_type": "code",
   "execution_count": 4,
   "metadata": {
    "colab": {
     "base_uri": "https://localhost:8080/"
    },
    "id": "0dC9RvbVmeW_",
    "outputId": "d74b43fa-be1b-4fb4-be8b-95d56d1be85e"
   },
   "outputs": [],
   "source": [
    "# Remove Duplicate Records\n",
    "data.drop_duplicates(inplace=True)\n",
    "\n",
    "# Remove records with missing values\n",
    "data = data.dropna()\n",
    "\n",
    "# Remove records with numeric values\n",
    "data = data.drop(data[data['review'].str.isnumeric()].index) \n",
    "\n",
    "# Resets the index in the dataframe\n",
    "data = data.reset_index(drop=True)"
   ]
  },
  {
   "cell_type": "markdown",
   "metadata": {
    "id": "BuLQotMPwryf"
   },
   "source": [
    "5. Data Preprocessing"
   ]
  },
  {
   "cell_type": "code",
   "execution_count": 5,
   "metadata": {
    "id": "Ka9OCKzNWhmv"
   },
   "outputs": [],
   "source": [
    "# Function to preprocess the reviews in the data\n",
    "def preprocess_data(review_data):\n",
    "    ps = PorterStemmer()\n",
    "    \n",
    "    preprocessed_review = []\n",
    "    preprocessed_label = []\n",
    "    \n",
    "    for i in range(1, len(review_data)):\n",
    "        # Remove Noisy Data\n",
    "        review = re.sub('[^a-zA-Z\\\\s]', '', review_data[i]).strip()\n",
    "\n",
    "        # Remove Non-english Reviews\n",
    "        if(len(review) == 0 or len(review) == 1 or detect(review) == \"vi\" or  detect(review) == \"ko\" or detect(review) == \"ru\" or detect(review) == \"zh-cn\"):\n",
    "            continue\n",
    "        \n",
    "        # Lower all the characters\n",
    "        review = review.lower() if review.lower() != \"\" else \"\"\n",
    "         \n",
    "        # Tokenization\n",
    "        words= nltk.word_tokenize(review)\n",
    "        \n",
    "        # Stopwords are ignored and non-stopwords are stemmed\n",
    "        words = [ps.stem(word) for word in words if word not in set(stopwords.words('english'))]\n",
    "        \n",
    "        review_data[i] = ' '.join(words)\n",
    "        \n",
    "        # Eliminate if the reviews are blank after preprocessing\n",
    "        if(review_data[i] !=\"\"):\n",
    "            preprocessed_review.append(review_data[i]);\n",
    "            preprocessed_label.append(data['label'][i]);\n",
    "        \n",
    "    return preprocessed_review, preprocessed_label"
   ]
  },
  {
   "cell_type": "code",
   "execution_count": 6,
   "metadata": {
    "id": "Ed1I-RXVWhmv"
   },
   "outputs": [],
   "source": [
    "X_transformed, y = preprocess_data(data['review'].values)"
   ]
  },
  {
   "cell_type": "markdown",
   "metadata": {
    "id": "u9ogqS4yxVnn"
   },
   "source": [
    "6. Data Splitting"
   ]
  },
  {
   "cell_type": "code",
   "execution_count": 7,
   "metadata": {
    "id": "bJ3-594DWhmw"
   },
   "outputs": [],
   "source": [
    "# The entire dataset is split into training and test datasets with 80% of training dataset and 20% of test dataset\n",
    "X_train_naivebayes, X_test_naivebayes, y_train_label, y_test_label = train_test_split(X_transformed, y, test_size = 0.20, random_state = 10)"
   ]
  },
  {
   "cell_type": "markdown",
   "metadata": {
    "id": "LRGM9PcxxYXc"
   },
   "source": [
    "7. Data Transformation"
   ]
  },
  {
   "cell_type": "code",
   "execution_count": 8,
   "metadata": {
    "id": "Tn2yYyDIWhmx"
   },
   "outputs": [],
   "source": [
    "# Tokenizer is used to vectorize the reviews where the reviews are converted to sequence of integers\n",
    "tokenizer = Tokenizer(num_words=500)\n",
    "total_reviews = X_train_naivebayes + X_test_naivebayes\n",
    "\n",
    "# Updates internal vocabulary based on a list of reviews.\n",
    "tokenizer.fit_on_texts(total_reviews) \n",
    "\n",
    "# The reviews are converted to word count matrix\n",
    "X_train_naivebayes_matrix =  tokenizer.texts_to_matrix(X_train_naivebayes, mode='count')\n",
    "X_test_naivebayes_matrix = tokenizer.texts_to_matrix(X_test_naivebayes, mode='count')"
   ]
  },
  {
   "cell_type": "markdown",
   "metadata": {
    "id": "9qfrEmw4xhTD"
   },
   "source": [
    "8. Model Training"
   ]
  },
  {
   "cell_type": "code",
   "execution_count": 9,
   "metadata": {
    "id": "uob2_f6XWhmy"
   },
   "outputs": [],
   "source": [
    "# naive_bayes function performs Naive Bayes classification\n",
    "def naive_bayes():\n",
    "    model_train_naivebayes = MultinomialNB().fit(X_train_naivebayes_matrix, y_train_label)\n",
    "    return model_train_naivebayes, model_train_naivebayes.predict(X_test_naivebayes_matrix)"
   ]
  },
  {
   "cell_type": "code",
   "execution_count": 10,
   "metadata": {
    "id": "izW6Lr6PWhmy"
   },
   "outputs": [],
   "source": [
    "nbclassifier, y_pred_naivebayes = naive_bayes()"
   ]
  },
  {
   "cell_type": "markdown",
   "metadata": {
    "id": "TZtkIIZexmAV"
   },
   "source": [
    "9. Model Evaluation"
   ]
  },
  {
   "cell_type": "code",
   "execution_count": 11,
   "metadata": {
    "id": "2DCKtj3YxnpJ"
   },
   "outputs": [
    {
     "name": "stdout",
     "output_type": "stream",
     "text": [
      "Performance Metrics      Values\n",
      "---------------------  --------\n",
      "Accuracy               0.763599\n",
      "Precision              0.720513\n",
      "Recall                 0.763599\n",
      "F1score                0.732644\n",
      "\n",
      " Naive Bayes Classification Report \n",
      "               precision    recall  f1-score   support\n",
      "\n",
      "           1      0.347     0.305     0.324       545\n",
      "           2      0.244     0.153     0.188       498\n",
      "           3      0.255     0.195     0.221      1104\n",
      "           4      0.443     0.218     0.292      4338\n",
      "           5      0.829     0.941     0.881     19987\n",
      "\n",
      "    accuracy                          0.764     26472\n",
      "   macro avg      0.423     0.362     0.381     26472\n",
      "weighted avg      0.721     0.764     0.733     26472\n",
      "\n",
      "Normalized Naive Bayes Confusion Matrix\n"
     ]
    },
    {
     "data": {
      "image/png": "[encoded data removed]",
      "text/plain": [
       "<Figure size 432x288 with 2 Axes>"
      ]
     },
     "metadata": {
      "needs_background": "light"
     },
     "output_type": "display_data"
    }
   ],
   "source": [
    "# Metrics such as accuracy, precision, recall and F1score are used to evaluate the Naive Bayes Classification\n",
    "\n",
    "accuracy = accuracy_score(y_test_label, y_pred_naivebayes)\n",
    "\n",
    "precision, recall, F1score, support = precision_recall_fscore_support(y_test_label, y_pred_naivebayes, average='weighted')\n",
    "\n",
    "header=['Precision', 'Recall','F1Score', 'Support']\n",
    "\n",
    "print(tabulate([['Accuracy', accuracy], ['Precision', precision], ['Recall', recall], ['F1score', F1score]], headers=['Performance Metrics', 'Values']))\n",
    "\n",
    "print('\\n Naive Bayes Classification Report \\n', classification_report(y_test_label, y_pred_naivebayes, digits=3))\n",
    "\n",
    "plot_confusion_matrix(nbclassifier, X_test_naivebayes_matrix, y_test_label, normalize='pred', cmap=plt.cm.Blues)\n",
    "\n",
    "print('Normalized Naive Bayes Confusion Matrix')"
   ]
  },
  {
   "cell_type": "code",
   "execution_count": null,
   "metadata": {},
   "outputs": [],
   "source": []
  }
 ],
 "metadata": {
  "colab": {
   "collapsed_sections": [],
   "name": "NaiveBayes Final.ipynb",
   "provenance": [],
   "toc_visible": true
  },
  "kernelspec": {
   "display_name": "Python 3",
   "language": "python",
   "name": "python3"
  },
  "language_info": {
   "codemirror_mode": {
    "name": "ipython",
    "version": 3
   },
   "file_extension": ".py",
   "mimetype": "text/x-python",
   "name": "python",
   "nbconvert_exporter": "python",
   "pygments_lexer": "ipython3",
   "version": "3.7.4"
  }
 },
 "nbformat": 4,
 "nbformat_minor": 1
}
